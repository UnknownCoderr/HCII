{
 "cells": [
  {
   "cell_type": "code",
   "execution_count": null,
   "metadata": {},
   "outputs": [],
   "source": [
    "from ultralytics import YOLO\n",
    "import cv2\n",
    "import numpy as np\n",
    "from collections import Counter\n",
    "import socket \n",
    "import threading"
   ]
  },
  {
   "cell_type": "code",
   "execution_count": null,
   "metadata": {},
   "outputs": [],
   "source": [
    "def connect():   \n",
    "    soc = socket.socket()\n",
    "    global conn,isConn\n",
    "    soc.bind(('localhost',9000))\n",
    "    soc.listen(5)\n",
    "    conn , addr = soc.accept()\n",
    "    isConn = 1\n",
    "    print(\"device connected\")"
   ]
  },
  {
   "cell_type": "code",
   "execution_count": null,
   "metadata": {},
   "outputs": [],
   "source": [
    "def SendMess(x):\n",
    "    msg = bytes(f\"{x}\",'utf-8')\n",
    "    conn.send(msg)"
   ]
  },
  {
   "cell_type": "code",
   "execution_count": null,
   "metadata": {},
   "outputs": [],
   "source": [
    "\n",
    "\n",
    "def capture_and_predict(num_frames=20):\n",
    "    model = YOLO(\"Best_Model.pt\")\n",
    "    camera = cv2.VideoCapture(0)\n",
    "    captured_frames = []\n",
    "\n",
    "    for _ in range(num_frames):\n",
    "        ret, frame = camera.read()\n",
    "\n",
    "        if not ret:\n",
    "            print(\"Failed to grab frame\")\n",
    "            break\n",
    "\n",
    "        cv2.imshow(\"test\", frame)\n",
    "        captured_frames.append(frame)\n",
    "        key = cv2.waitKey(1)\n",
    "        if key == 27:\n",
    "             break\n",
    "    camera.release()\n",
    "    cv2.destroyAllWindows()\n",
    "\n",
    "    # Predict using the captured frames\n",
    "    predicted_classes = []\n",
    "    results = model(captured_frames)  # list of Results objects -> perform inference using the model\n",
    "    names = model.names\n",
    "\n",
    "    for r in results:\n",
    "        for c in r.boxes.cls:\n",
    "            predicted_classes.append(names[int(c)])\n",
    "\n",
    "    # Find the most frequent predicted class\n",
    "    most_common_class = Counter(predicted_classes).most_common(1)\n",
    "    final_predicted_class = most_common_class[0][0]\n",
    "\n",
    "    # Save the final_predicted_class to a text file\n",
    "    with open(\"predicted_class.txt\", \"w\") as file:\n",
    "        file.write(final_predicted_class)\n",
    "\n",
    "    print(\"Predicted class saved to 'predicted_class.txt'\")\n",
    "\n",
    "\n",
    "\n",
    "SendMess(\"Connected\")"
   ]
  },
  {
   "cell_type": "code",
   "execution_count": null,
   "metadata": {},
   "outputs": [],
   "source": [
    "thread1 = threading.Thread(target=connect)\n",
    "thread1.start()\n",
    "thread1.join()\n",
    "\n",
    "thread2 = threading.Thread(target=capture_and_predict)\n",
    "thread2.start()\n",
    "thread2.join()"
   ]
  }
 ],
 "metadata": {
  "language_info": {
   "name": "python"
  }
 },
 "nbformat": 4,
 "nbformat_minor": 2
}
