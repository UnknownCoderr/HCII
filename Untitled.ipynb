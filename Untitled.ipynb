{
 "cells": [
  {
   "cell_type": "code",
   "execution_count": 9,
   "id": "17fd91bc",
   "metadata": {},
   "outputs": [],
   "source": [
    "import mediapipe as mp\n",
    "import cv2 \n",
    "from dollarpy import Recognizer, Template, Point\n",
    "import numpy as np\n",
    "import socket \n",
    "import threading\n",
    "global isConn , result\n",
    "isConn = 0\n",
    "templates=[]\n"
   ]
  },
  {
   "cell_type": "code",
   "execution_count": 10,
   "id": "8b50329c",
   "metadata": {},
   "outputs": [],
   "source": [
    "def connect():   \n",
    "    soc = socket.socket()\n",
    "    global conn,isConn\n",
    "    soc.bind(('localhost',9000))\n",
    "    soc.listen(5)\n",
    "    conn , addr = soc.accept()\n",
    "    isConn = 1\n",
    "    print(\"device connected\")"
   ]
  },
  {
   "cell_type": "code",
   "execution_count": 11,
   "id": "9f326372",
   "metadata": {},
   "outputs": [],
   "source": [
    "def getPoints(videoURL,label):\n",
    "    mp_drawing = mp.solutions.drawing_utils\n",
    "    mp_holistic = mp.solutions.holistic\n",
    "    cap = cv2.VideoCapture(videoURL)#web cam =0 , else enter filename\n",
    "    # Initiate holistic model\n",
    "    with mp_holistic.Holistic(min_detection_confidence=0.4, min_tracking_confidence=0.5) as holistic:\n",
    "        points = []\n",
    "        \n",
    "        nose=[]\n",
    "        left_eye=[]\n",
    "        right_eye=[]\n",
    "        left_ear=[]\n",
    "        right_ear=[]\n",
    "        mouth_left=[]\n",
    "        mouth_right=[]        \n",
    "        left_shoulder=[]\n",
    "        right_shoulder=[]\n",
    "        left_elbos=[]\n",
    "        right_elbos=[]\n",
    "        left_wrist=[]\n",
    "        right_wrist=[]\n",
    "        left_pinky=[]\n",
    "        right_pinky=[]\n",
    "        left_index=[]\n",
    "        right_index=[]\n",
    "        left_thumb=[]\n",
    "        right_thumb=[]        \n",
    "        left_hip=[]\n",
    "        right_hip=[]\n",
    "        left_knee=[]\n",
    "        right_knee=[]\n",
    "        left_ankle=[]\n",
    "        right_ankle=[]\n",
    "        left_heel=[]\n",
    "        right_heel=[]\n",
    "\n",
    "        \n",
    "        while cap.isOpened():\n",
    "            ret, frame = cap.read()\n",
    "\n",
    "            # Recolor Feed\n",
    "            if ret==True:\n",
    "\n",
    "                image = cv2.cvtColor(frame, cv2.COLOR_BGR2RGB)\n",
    "                image.flags.writeable = False        \n",
    "\n",
    "                # Make Detections\n",
    "                results = holistic.process(image)\n",
    "                # print(results.face_landmarks)\n",
    "\n",
    "                # face_landmarks, pose_landmarks, left_hand_landmarks, right_hand_landmarks\n",
    "\n",
    "                # Recolor image back to BGR for rendering\n",
    "                image.flags.writeable = True   \n",
    "                image = cv2.cvtColor(image, cv2.COLOR_RGB2BGR)\n",
    "\n",
    "\n",
    "                # 2. Right hand\n",
    "                mp_drawing.draw_landmarks(image, results.right_hand_landmarks, mp_holistic.HAND_CONNECTIONS, \n",
    "                                         mp_drawing.DrawingSpec(color=(80,22,10), thickness=2, circle_radius=4),\n",
    "                                         mp_drawing.DrawingSpec(color=(80,44,121), thickness=2, circle_radius=2)\n",
    "                                         )\n",
    "\n",
    "                # 3. Left Hand\n",
    "                mp_drawing.draw_landmarks(image, results.left_hand_landmarks, mp_holistic.HAND_CONNECTIONS, \n",
    "                                         mp_drawing.DrawingSpec(color=(121,22,76), thickness=2, circle_radius=4),\n",
    "                                         mp_drawing.DrawingSpec(color=(121,44,250), thickness=2, circle_radius=2)\n",
    "                                         )\n",
    "\n",
    "                # 4. Pose Detections\n",
    "                mp_drawing.draw_landmarks(image, results.pose_landmarks, mp_holistic.POSE_CONNECTIONS, \n",
    "                                         mp_drawing.DrawingSpec(color=(245,117,66), thickness=2, circle_radius=4),\n",
    "                                         mp_drawing.DrawingSpec(color=(245,66,230), thickness=2, circle_radius=2)\n",
    "                                         )\n",
    "                # Export coordinates\n",
    "                try:\n",
    "                    # Extract Pose landmarks\n",
    "                    pose = results.pose_landmarks.landmark\n",
    "                    index = 0\n",
    "                    newlist=[]\n",
    "                    for lnd in pose:\n",
    "                        if(index  in [0,2,5,7,8,9,10,11,12,13,14,15,16,17,18,19,20,21,22,23,24,25,26,27,28,29,30]):\n",
    "                            newlist.append(lnd)\n",
    "                        index+=1\n",
    "\n",
    "\n",
    "\n",
    "                    # add points of wrist , elbow and shoulder\n",
    "                    nose.append(Point(newlist[0].x,newlist[0].y,1))\n",
    "                    left_eye.append(Point(newlist[1].x,newlist[1].y,2))\n",
    "                    right_eye.append(Point(newlist[2].x,newlist[2].y,3))\n",
    "                    left_ear.append(Point(newlist[3].x,newlist[3].y,4))\n",
    "                    right_ear.append(Point(newlist[4].x,newlist[4].y,5))\n",
    "                    mouth_left.append(Point(newlist[5].x,newlist[5].y,6))\n",
    "                    mouth_right.append(Point(newlist[6].x,newlist[6].y,7))\n",
    "                    left_shoulder.append(Point(newlist[7].x,newlist[7].y,8))\n",
    "                    right_shoulder.append(Point(newlist[8].x,newlist[8].y,9))\n",
    "                    left_elbos.append(Point(newlist[9].x,newlist[9].y,10))\n",
    "                    right_elbos.append(Point(newlist[10].x,newlist[10].y,11))\n",
    "                    left_wrist.append(Point(newlist[11].x,newlist[11].y,12))\n",
    "                    right_wrist.append(Point(newlist[12].x,newlist[12].y,13))\n",
    "                    left_pinky.append(Point(newlist[13].x,newlist[13].y,14))\n",
    "                    right_pinky.append(Point(newlist[14].x,newlist[14].y,15))\n",
    "                    left_index.append(Point(newlist[15].x,newlist[15].y,16))\n",
    "                    right_index.append(Point(newlist[16].x,newlist[16].y,17))\n",
    "                    left_thumb.append(Point(newlist[17].x,newlist[17].y,18))\n",
    "                    right_thumb.append(Point(newlist[18].x,newlist[18].y,19))\n",
    "                    left_hip.append(Point(newlist[19].x,newlist[19].y,20))\n",
    "                    right_hip.append(Point(newlist[20].x,newlist[20].y,21))\n",
    "                    left_knee.append(Point(newlist[21].x,newlist[21].y,22))\n",
    "                    right_knee.append(Point(newlist[22].x,newlist[22].y,23))\n",
    "                    left_ankle.append(Point(newlist[23].x,newlist[23].y,24))\n",
    "                    right_ankle.append(Point(newlist[24].x,newlist[24].y,25))\n",
    "                    left_heel.append(Point(newlist[25].x,newlist[25].y,26))\n",
    "                    right_heel.append(Point(newlist[26].x,newlist[26].y,27))                                                                        \n",
    "\n",
    "\n",
    "                except:\n",
    "                    pass\n",
    "\n",
    "                cv2.imshow(label, image)\n",
    "            else:\n",
    "                break\n",
    "\n",
    "            if cv2.waitKey(30) & 0xFF == ord('q'):\n",
    "                break\n",
    "\n",
    "    cap.release()\n",
    "    cv2.destroyAllWindows()\n",
    "    points = nose+left_eye+right_eye+left_ear+right_ear+mouth_left+mouth_right+left_shoulder+right_shoulder+left_elbos+right_elbos+left_wrist+right_wrist+left_pinky+right_pinky+left_index+right_index+left_thumb+right_thumb+left_hip+right_hip+left_knee+right_knee+left_ankle+right_ankle+left_heel+right_heel\n",
    "    print(label)\n",
    "\n",
    "    \n",
    "    \n",
    "    return points"
   ]
  },
  {
   "cell_type": "code",
   "execution_count": 12,
   "id": "41d86f39",
   "metadata": {},
   "outputs": [],
   "source": [
    "def TrainData():\n",
    "    global templates \n",
    "    \n",
    "    vid = \"C:/Users/Ammar Wael/Desktop/HCI/Videos/Butterfly 2 .mp4\"\n",
    "    points = getPoints(vid,\"Butterfly Swimming\") \n",
    "    tmpl_2 = Template('Butterfly', points)\n",
    "    templates.append(tmpl_2)\n",
    "\n",
    "\n",
    "    vid = \"C:/Users/Ammar Wael/Desktop/HCI/Videos/Butterfly.mp4\"\n",
    "    points = getPoints(vid,\"Butterfly Swimming\") \n",
    "    tmpl_2 = Template('Butterfly', points)\n",
    "    templates.append(tmpl_2)\n",
    "\n",
    "\n",
    "    vid = \"C:/Users/Ammar Wael/Desktop/HCI/Videos/Backstroke 2 .mp4\"\n",
    "    points = getPoints(vid,\"backstroke\") \n",
    "    tmpl_2 = Template('backstroke', points)\n",
    "    templates.append(tmpl_2)"
   ]
  },
  {
   "cell_type": "code",
   "execution_count": 13,
   "id": "c84bcd92",
   "metadata": {},
   "outputs": [],
   "source": [
    "def TestData():\n",
    "    \n",
    "    global templates , result\n",
    "    print(\"Test\")\n",
    "    vid = \"C:/Users/Ammar Wael/Desktop/HCI/Videos/test2.mp4\"\n",
    "    points = getPoints(vid,\"butterfly\") \n",
    "\n",
    "    recognizer = Recognizer(templates)\n",
    "    result = recognizer.recognize(points)    \n",
    "    print(result)    \n",
    "\n",
    "    connect()    \n",
    "    \n",
    "    if isConn==1:\n",
    "        SendMess(result)\n"
   ]
  },
  {
   "cell_type": "code",
   "execution_count": 14,
   "id": "3a1faf00",
   "metadata": {},
   "outputs": [],
   "source": [
    "def SendMess(x):\n",
    "    msg = bytes(f\"{x}\",'utf-8')\n",
    "    conn.send(msg)"
   ]
  },
  {
   "cell_type": "code",
   "execution_count": 18,
   "id": "d2363985",
   "metadata": {},
   "outputs": [
    {
     "name": "stdout",
     "output_type": "stream",
     "text": [
      "Butterfly Swimming\n",
      "Butterfly Swimming\n",
      "backstroke\n"
     ]
    }
   ],
   "source": [
    "thread1 = threading.Thread(target=TrainData)\n",
    "thread1.start()\n",
    "thread1.join()"
   ]
  },
  {
   "cell_type": "code",
   "execution_count": 19,
   "id": "86389edb",
   "metadata": {},
   "outputs": [
    {
     "name": "stdout",
     "output_type": "stream",
     "text": [
      "Test\n",
      "butterfly\n",
      "(None, 0)\n",
      "device connected\n"
     ]
    }
   ],
   "source": [
    "thread3 = threading.Thread(target=TestData)\n",
    "thread3.start()\n",
    "thread3.join()"
   ]
  },
  {
   "cell_type": "code",
   "execution_count": 1,
   "metadata": {},
   "outputs": [
    {
     "name": "stdout",
     "output_type": "stream",
     "text": [
      "okay\n"
     ]
    }
   ],
   "source": [
    "print (\"okay\")"
   ]
  }
 ],
 "metadata": {
  "kernelspec": {
   "display_name": "Python 3 (ipykernel)",
   "language": "python",
   "name": "python3"
  },
  "language_info": {
   "codemirror_mode": {
    "name": "ipython",
    "version": 3
   },
   "file_extension": ".py",
   "mimetype": "text/x-python",
   "name": "python",
   "nbconvert_exporter": "python",
   "pygments_lexer": "ipython3",
   "version": "3.9.13"
  }
 },
 "nbformat": 4,
 "nbformat_minor": 5
}
