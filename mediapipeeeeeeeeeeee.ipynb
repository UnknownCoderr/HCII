{
 "cells": [
  {
   "cell_type": "code",
   "execution_count": 1,
   "id": "a9eee335",
   "metadata": {},
   "outputs": [],
   "source": [
    "import mediapipe as mp \n",
    "import cv2\n",
    "from dollarpy import Recognizer, Template, Point\n",
    "import os\n",
    "import numpy as np\n",
    "import socket\n",
    "import threading"
   ]
  },
  {
   "cell_type": "code",
   "execution_count": 2,
   "id": "db7dafc3",
   "metadata": {},
   "outputs": [],
   "source": [
    "templates=[]"
   ]
  },
  {
   "cell_type": "code",
   "execution_count": 3,
   "id": "9e84702d",
   "metadata": {},
   "outputs": [],
   "source": [
    "mp_drawing = mp.solutions.drawing_utils\n",
    "mp_hands = mp.solutions.hands\n",
    "mp_styles=mp.solutions.drawing_styles"
   ]
  },
  {
   "cell_type": "code",
   "execution_count": 4,
   "id": "7cc9bb1c",
   "metadata": {},
   "outputs": [],
   "source": [
    "def getPoints(videoURL, label):\n",
    "    \n",
    "    result = None\n",
    "    cap = cv2.VideoCapture(videoURL)\n",
    "\n",
    "    with mp.solutions.hands.Hands(max_num_hands=2, min_detection_confidence=0.8, min_tracking_confidence=0.5) as hands:\n",
    "        points = []\n",
    "        wrist = []\n",
    "        thumb_cmc = []\n",
    "        thumb_mcp = []\n",
    "        thumb_ip = []\n",
    "        thumb_tip = []\n",
    "        index_finger_mcp = []\n",
    "        index_finger_pip = []\n",
    "        index_finger_dip = []\n",
    "        index_finger_tip = []\n",
    "        middle_finger_mcp = []\n",
    "        middle_finger_pip = []\n",
    "        middle_finger_dip = []\n",
    "        middle_finger_tip = []\n",
    "        ring_finger_mcp = []\n",
    "        ring_finger_pip = []\n",
    "        ring_finger_dip = []\n",
    "        ring_finger_tip = []\n",
    "        pinky_mcp = []\n",
    "        pinky_pip = []\n",
    "        pinky_dip = []\n",
    "        pinky_tip = []\n",
    "\n",
    "        while cap.isOpened():\n",
    "            ret, frame = cap.read()\n",
    "            if ret == True:\n",
    "                image = cv2.cvtColor(frame, cv2.COLOR_BGR2RGB)\n",
    "                image = cv2.flip(image, 1)\n",
    "                image.flags.writeable = False\n",
    "\n",
    "                results = hands.process(image)\n",
    "\n",
    "                image.flags.writeable = True\n",
    "                if results.multi_hand_landmarks:\n",
    "                    for hand_landmarks in results.multi_hand_landmarks:\n",
    "                        mp.solutions.drawing_utils.draw_landmarks(\n",
    "                        image, hand_landmarks, mp.solutions.hands.HAND_CONNECTIONS,\n",
    "                        mp.solutions.drawing_styles.get_default_hand_landmarks_style(),\n",
    "                        mp.solutions.drawing_styles.get_default_hand_connections_style()\n",
    "                        )\n",
    "                \n",
    "\n",
    "               \n",
    "                try:\n",
    "                    handy = results.multi_hand_landmarks\n",
    "                    index = 0\n",
    "                    newlist = []\n",
    "                    for lnd in handy:\n",
    "                        if index in [0, 1, 2, 3, 4, 5, 6, 7, 8, 9, 10, 11, 12, 13, 14, 15, 16, 17, 18, 19, 20]:\n",
    "                            newlist.append(lnd)\n",
    "                        index += 1\n",
    "\n",
    "                    wrist.append(Point(newlist[0].landmark[0].x, newlist[0].landmark[0].y, 1))\n",
    "                    thumb_cmc.append(Point(newlist[1].landmark[1].x, newlist[1].landmark[1].y, 2))\n",
    "                    thumb_mcp.append(Point(newlist[2].landmark[2].x, newlist[2].landmark[2].y, 3))\n",
    "                    thumb_ip.append(Point(newlist[3].landmark[3].x, newlist[3].landmark[3].y, 4))\n",
    "                    thumb_tip.append(Point(newlist[4].landmark[4].x, newlist[4].landmark[4].y, 5))\n",
    "                    index_finger_mcp.append(Point(newlist[5].landmark[5].x, newlist[5].landmark[5].y, 6))\n",
    "                    index_finger_pip.append(Point(newlist[6].landmark[6].x, newlist[6].landmark[6].y, 7))\n",
    "                    index_finger_dip.append(Point(newlist[7].landmark[7].x, newlist[7].landmark[7].y, 8))\n",
    "                    index_finger_tip.append(Point(newlist[8].landmark[8].x, newlist[8].landmark[8].y, 9))\n",
    "                    middle_finger_mcp.append(Point(newlist[9].landmark[9].x, newlist[9].landmark[9].y, 10))\n",
    "                    middle_finger_pip.append(Point(newlist[10].landmark[10].x, newlist[10].landmark[10].y, 11))\n",
    "                    middle_finger_dip.append(Point(newlist[11].landmark[11].x, newlist[11].landmark[11].y, 12))\n",
    "                    middle_finger_tip.append(Point(newlist[12].landmark[12].x, newlist[12].landmark[12].y, 13))\n",
    "                    ring_finger_mcp.append(Point(newlist[13].landmark[14].x, newlist[13].landmark[13].y, 14))\n",
    "                    ring_finger_pip.append(Point(newlist[14].landmark[14].x, newlist[14].landmark[14].y, 15))\n",
    "                    ring_finger_dip.append(Point(newlist[15].landmark[15].x, newlist[15].landmark[15].y, 16))\n",
    "                    ring_finger_tip.append(Point(newlist[16].landmark[16].x, newlist[16].landmark[16].y, 17))\n",
    "                    pinky_mcp.append(Point(newlist[17].landmark[17].x, newlist[17].landmark[17].y, 18))\n",
    "                    pinky_pip.append(Point(newlist[18].landmark[18].x, newlist[18].landmark[18].y, 19))\n",
    "                    pinky_dip.append(Point(newlist[19].landmark[19].x, newlist[19].landmark[19].y, 20))\n",
    "                    pinky_tip.append(Point(newlist[20].landmark[20].x, newlist[20].landmark[20].y, 21))\n",
    "\n",
    "                except:\n",
    "                    pass\n",
    "                \n",
    "                cv2.imshow(label, image)\n",
    "                \n",
    "                if cv2.waitKey(10) & 0xFF == ord('q'):\n",
    "                    result = \"exit\"\n",
    "                    break\n",
    "\n",
    "    cap.release()\n",
    "    cv2.destroyAllWindows()\n",
    "    \n",
    "    print(label)\n",
    "    points = wrist + thumb_cmc + thumb_mcp + thumb_ip + thumb_tip + index_finger_mcp + index_finger_pip + \\\n",
    "             index_finger_dip + index_finger_tip + middle_finger_mcp + middle_finger_pip + middle_finger_dip + \\\n",
    "             middle_finger_tip + ring_finger_mcp + ring_finger_pip + ring_finger_dip + ring_finger_tip + pinky_mcp + \\\n",
    "             pinky_pip + pinky_dip + pinky_tip\n",
    "    total_x = sum(point.x for point in points)\n",
    "    total_y = sum(point.y for point in points)\n",
    "    print(f\"Total points for {label}: ({total_x}, {total_y})\")\n",
    "\n",
    "    return points"
   ]
  },
  {
   "cell_type": "code",
   "execution_count": 5,
   "id": "22fc95cd",
   "metadata": {},
   "outputs": [
    {
     "name": "stdout",
     "output_type": "stream",
     "text": [
      "right\n",
      "Total points for right: (25.88002473115921, 29.5103577375412)\n",
      "left\n",
      "Total points for left: (13.564706390723586, 32.79478430747986)\n",
      "start\n",
      "Total points for start: (17.83189958333969, 28.29997366666794)\n"
     ]
    }
   ],
   "source": [
    "vid = 0\n",
    "points = getPoints(vid, \"right\")\n",
    "tmpl_2 = Template('right', points)\n",
    "templates.append(tmpl_2)\n",
    "\n",
    "\n",
    "vid = 0\n",
    "points = getPoints(vid,\"left\") \n",
    "tmpl_2 = Template('left', points)\n",
    "templates.append(tmpl_2)\n",
    "\n",
    "vid = 0\n",
    "points = getPoints(vid,\"start\") \n",
    "tmpl_2 = Template('start', points)\n",
    "templates.append(tmpl_2)\n",
    "\n",
    "#vid = 0\n",
    "#points = getPoints(vid,\"down\") \n",
    "#tmpl_2 = Template('down', points)\n",
    "#templates.append(tmpl_2)\n",
    "\n",
    "#vid = 0\n",
    "#points = getPoints(vid,\"center\") \n",
    "#tmpl_2 = Template('center', points)\n",
    "#templates.append(tmpl_2)\n",
    "\n"
   ]
  },
  {
   "cell_type": "code",
   "execution_count": 6,
   "id": "08e02be6",
   "metadata": {},
   "outputs": [],
   "source": [
    "def recognation(conn):\n",
    "    global result\n",
    "    vid = 0\n",
    "    points = getPoints(vid, \"what\")\n",
    "    import time\n",
    "\n",
    "    start = time.time()\n",
    "    recognizer = Recognizer(templates)\n",
    "    result = str(recognizer.recognize(points))\n",
    "    end = time.time()\n",
    "    duration = end - start\n",
    "  \n",
    "\n",
    "\n",
    "    # Extract the relevant information and remove the first bracket\n",
    "    result_info = result.split(\",\")[0][1:]  # Remove the first character (the opening bracket)\n",
    "    print(result_info)\n",
    "\n",
    "    # Send only the relevant information\n",
    "    msg = bytes(result_info, 'utf-8')\n",
    "    conn.send(msg)"
   ]
  },
  {
   "cell_type": "code",
   "execution_count": 7,
   "id": "6278ba7e",
   "metadata": {},
   "outputs": [
    {
     "ename": "SyntaxError",
     "evalue": "'(' was never closed (3820804600.py, line 8)",
     "output_type": "error",
     "traceback": [
      "\u001b[1;36m  Cell \u001b[1;32mIn[7], line 8\u001b[1;36m\u001b[0m\n\u001b[1;33m    result = str(recognizer.recognize(points)\u001b[0m\n\u001b[1;37m                ^\u001b[0m\n\u001b[1;31mSyntaxError\u001b[0m\u001b[1;31m:\u001b[0m '(' was never closed\n"
     ]
    }
   ],
   "source": [
    "global result\n",
    "vid = 0\n",
    "points = getPoints(vid, \"what\")\n",
    "import time\n",
    "\n",
    "start = time.time()\n",
    "recognizer = Recognizer(templates)\n",
    "result = str(recognizer.recognize(points)\n",
    "print(result)\n",
    "end = time.time()\n",
    "duration = end - start"
   ]
  },
  {
   "cell_type": "code",
   "execution_count": 11,
   "id": "0c220c86",
   "metadata": {},
   "outputs": [
    {
     "name": "stdout",
     "output_type": "stream",
     "text": [
      "eb3t yally btb3t\n",
      "what\n",
      "Total points for what: (9.531405866146088, 10.458046019077301)\n",
      "'right'\n"
     ]
    }
   ],
   "source": [
    "import threading\n",
    "\n",
    "MySocket = socket.socket()\n",
    "MySocket.bind(('localhost', 3333))\n",
    "MySocket.listen(5)\n",
    "conn, addr = MySocket.accept()\n",
    "print(\"eb3t yally btb3t\")\n",
    "recognation(conn)"
   ]
  },
  {
   "cell_type": "code",
   "execution_count": 29,
   "id": "25b1d98c",
   "metadata": {},
   "outputs": [
    {
     "name": "stderr",
     "output_type": "stream",
     "text": [
      "Exception in thread Thread-13 (connect):\n",
      "Traceback (most recent call last):\n",
      "  File \"D:\\python\\Lib\\threading.py\", line 1038, in _bootstrap_inner\n",
      "    self.run()\n",
      "  File \"D:\\python\\Lib\\threading.py\", line 975, in run\n",
      "    self._target(*self._args, **self._kwargs)\n",
      "  File \"C:\\Users\\Essam\\AppData\\Local\\Temp\\ipykernel_8084\\3264617629.py\", line 4, in connect\n",
      "OSError: [WinError 10048] Only one usage of each socket address (protocol/network address/port) is normally permitted\n",
      "Exception in thread Thread-14 (recognation):\n",
      "Traceback (most recent call last):\n",
      "  File \"D:\\python\\Lib\\threading.py\", line 1038, in _bootstrap_inner\n",
      "    self.run()\n",
      "  File \"D:\\python\\Lib\\threading.py\", line 975, in run\n",
      "    self._target(*self._args, **self._kwargs)\n",
      "TypeError: recognation() missing 1 required positional argument: 'conn'\n"
     ]
    }
   ],
   "source": [
    "\n",
    "    \n",
    "    \n",
    "    \n",
    "#thread1 = threading.Thread(target=connect)\n",
    "#thread1.start()\n",
    "#thread1.join()\n",
    "\n",
    "\n",
    "#thread2 = threading.Thread(target=recognation)\n",
    "#thread2.start()\n",
    "#thread2.join()\n",
    "#recognation(conn)"
   ]
  },
  {
   "cell_type": "code",
   "execution_count": null,
   "id": "1a9f41e2",
   "metadata": {},
   "outputs": [],
   "source": []
  }
 ],
 "metadata": {
  "kernelspec": {
   "display_name": "Python 3 (ipykernel)",
   "language": "python",
   "name": "python3"
  },
  "language_info": {
   "codemirror_mode": {
    "name": "ipython",
    "version": 3
   },
   "file_extension": ".py",
   "mimetype": "text/x-python",
   "name": "python",
   "nbconvert_exporter": "python",
   "pygments_lexer": "ipython3",
   "version": "3.11.5"
  }
 },
 "nbformat": 4,
 "nbformat_minor": 5
}
